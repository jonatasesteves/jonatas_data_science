{
  "nbformat": 4,
  "nbformat_minor": 0,
  "metadata": {
    "colab": {
      "provenance": [],
      "collapsed_sections": [],
      "include_colab_link": true
    },
    "kernelspec": {
      "name": "python3",
      "display_name": "Python 3"
    }
  },
  "cells": [
    {
      "cell_type": "markdown",
      "metadata": {
        "id": "view-in-github",
        "colab_type": "text"
      },
      "source": [
        "<a href=\"https://colab.research.google.com/github/jonatasesteves/jonatas_data_science/blob/main/Projeto_1_Analisando_os_Dados_do_Airbnb.ipynb\" target=\"_parent\"><img src=\"https://colab.research.google.com/assets/colab-badge.svg\" alt=\"Open In Colab\"/></a>"
      ]
    },
    {
      "cell_type": "markdown",
      "metadata": {
        "id": "kLI0gJtzDGuQ"
      },
      "source": [
        "<img alt=\"Colaboratory logo\" width=\"15%\" src=\"https://raw.githubusercontent.com/carlosfab/escola-data-science/master/img/novo_logo_bg_claro.png\">\n",
        "\n",
        "#### **Data Science na Prática 3.0**\n",
        "*by [sigmoidal.ai](https://sigmoidal.ai)*\n",
        "\n",
        "---\n",
        "\n",
        "# Análise dos Dados do Airbnb - *New Orleans*\n",
        "\n",
        "O [Airbnb](https://www.airbnb.com.br/) já é considerado como sendo a **maior empresa hoteleira da atualidade**. Ah, o detalhe é que ele **não possui nenhum hotel**!\n",
        "\n",
        "Conectando pessoas que querem viajar (e se hospedar) com anfitriões que querem alugar seus imóveis de maneira prática, o Airbnb fornece uma plataforma inovadora para tornar essa hospedagem alternativa.\n",
        "\n",
        "No final de 2018, a Startup fundada 10 anos atrás, já havia **hospedado mais de 300 milhões** de pessoas ao redor de todo o mundo, desafiando as redes hoteleiras tradicionais.\n",
        "\n",
        "Uma das iniciativas do Airbnb é disponibilizar dados do site, para algumas das principais cidades do mundo. Por meio do portal [Inside Airbnb](http://insideairbnb.com/get-the-data.html), é possível baixar uma grande quantidade de dados para desenvolver projetos e soluções de *Data Science*.\n",
        "\n",
        "<center><img alt=\"Analisando Airbnb\" width=\"10%\" src=\"https://www.area360.com.au/wp-content/uploads/2017/09/airbnb-logo.jpg\"></center>\n",
        "\n",
        "**Neste *notebook*, iremos analisar os dados referentes à cidade New Orleans, e ver quais insights podem ser extraídos a partir de dados brutos.**"
      ]
    },
    {
      "cell_type": "markdown",
      "metadata": {
        "id": "0zxQHhIUDF_2"
      },
      "source": [
        "## Obtenção dos Dados\n"
      ]
    },
    {
      "cell_type": "code",
      "metadata": {
        "id": "Vhp2wMPgJ6zX"
      },
      "source": [
        "# importar os pacotes necessarios\n",
        "import pandas as pd\n",
        "import matplotlib.pyplot as plt\n",
        "import seaborn as sns \n",
        "\n",
        "%matplotlib inline"
      ],
      "execution_count": null,
      "outputs": []
    },
    {
      "cell_type": "code",
      "metadata": {
        "id": "tUmoAT8DLQ5T"
      },
      "source": [
        "# importar o arquivo listings.csv para um DataFrame\n",
        "df = pd.read_csv(\"http://data.insideairbnb.com/united-states/la/new-orleans/2022-09-09/visualisations/listings.csv\")"
      ],
      "execution_count": null,
      "outputs": []
    },
    {
      "cell_type": "markdown",
      "metadata": {
        "id": "qb5By2nIMS6m"
      },
      "source": [
        "## Análise dos Dados\n"
      ]
    },
    {
      "cell_type": "markdown",
      "metadata": {
        "id": "RYgvuebKNg8-"
      },
      "source": [
        "**Dicionário das variáveis**\n",
        "\n",
        "* id - numero de identificação do imóvel\n",
        "* name - nome da propriedade a qual está sendo anunciada\n",
        "* host_id - número de identificação do proprietário da propriedade anunciada\n",
        "* host_name - Nome do hospedeiro\n",
        "* neighbourhood_group - Não há valores válidos\n",
        "* neighbourhood - nome do bairro\n",
        "* latitude - coordenada da latitude da propriedade\n",
        "* longitude - coordenada da longitude da propriedade\n",
        "* room_type - tipos de quarto que é oferecido\n",
        "* price - preço para alugar o imóvel\n",
        "* minimum_nights - quantidade mínima de noites para reservar\n",
        "* number_of_reviews - número de avaliações que a propriedade possui\n",
        "* last_review - data da ultima avaliação\n",
        "* reviews_per_month - quantidade de avaliações por mês\n",
        "* calculated_host_listings_count - quantidade de imóves do hospedeiro\n",
        "* availability_365 - número de dias de disponibilidade em 365 dias\n",
        "* `number_of_reviews_ltm` - quantidade de reviews nos ultimos 12 meses\n",
        "* `license` - Número de licença Airbnb\n",
        "\n",
        "\n",
        "Antes de iniciar qualquer análise, vamos verificar a cara do nosso *dataset*, analisando as 5 primeiras entradas."
      ]
    },
    {
      "cell_type": "markdown",
      "metadata": {
        "id": "6-B_qtEaYEd-"
      },
      "source": [
        "### **Q1. Quantos atributos (variáveis) e quantas entradas o nosso conjunto de dados possui? Quais os tipos das variáveis?**"
      ]
    },
    {
      "cell_type": "code",
      "metadata": {
        "id": "TFRK0tniLV-G",
        "colab": {
          "base_uri": "https://localhost:8080/",
          "height": 739
        },
        "outputId": "03ee959f-9d0b-4518-d276-0e09527f8010"
      },
      "source": [
        "# identificar o volume de dados do DataFrame\n",
        "print(f'Entradas: {df.shape[0]}')\n",
        "print(f'Variáveis: {df.shape[1]}')\n",
        "\n",
        "# verificar as 5 primeiras entradas do dataset\n",
        "df.head()"
      ],
      "execution_count": null,
      "outputs": [
        {
          "output_type": "stream",
          "name": "stdout",
          "text": [
            "Entradas: 6927\n",
            "Variáveis: 18\n"
          ]
        },
        {
          "output_type": "execute_result",
          "data": {
            "text/plain": [
              "      id                                             name  host_id host_name  \\\n",
              "0  19091                   Fully Furnished Cozy Apartment    72880      John   \n",
              "1  71624               Ravenwood Manor (Historic Bywater)   367223     Susan   \n",
              "2  74498              Maison Marais 1: Large Local Living   391462   Georgia   \n",
              "3  79536                        FeelAtHomeInNO PrivateApt   428362    Miriam   \n",
              "4  79609  Moon Over Mazant - FIRST and FINEST in Bywater!   428909   Stephen   \n",
              "\n",
              "   neighbourhood_group neighbourhood  latitude  longitude        room_type  \\\n",
              "0                  NaN      Leonidas  29.96100  -90.11950  Entire home/apt   \n",
              "1                  NaN       Bywater  29.96153  -90.04364  Entire home/apt   \n",
              "2                  NaN      St. Roch  29.96986  -90.05172  Entire home/apt   \n",
              "3                  NaN  Seventh Ward  29.97803  -90.07450  Entire home/apt   \n",
              "4                  NaN    St. Claude  29.96448  -90.03667     Private room   \n",
              "\n",
              "   price  minimum_nights  number_of_reviews last_review  reviews_per_month  \\\n",
              "0     60               1                497  2022-04-04               3.29   \n",
              "1    150               3                271  2022-09-05               1.92   \n",
              "2     93               3                553  2022-09-04               3.95   \n",
              "3     69               3                580  2022-08-23               4.19   \n",
              "4    111               3                438  2022-09-05               3.13   \n",
              "\n",
              "   calculated_host_listings_count  availability_365  number_of_reviews_ltm  \\\n",
              "0                               1               122                     30   \n",
              "1                               1               321                     31   \n",
              "2                               3               202                     40   \n",
              "3                               1                29                     67   \n",
              "4                               1               244                     44   \n",
              "\n",
              "                                             license  \n",
              "0                       20-RSTR-27040, 20-OSTR-00105  \n",
              "1                       21-RSTR-18609, 20-OSTR-31018  \n",
              "2  Exempt: This listing is a licensed hotel, mote...  \n",
              "3                       21-RSTR-18550, 21-OSTR-18392  \n",
              "4                         19STR-20697, 20-OSTR-24055  "
            ],
            "text/html": [
              "\n",
              "  <div id=\"df-bbd21000-bfac-4a93-bf74-f27f4181f9fd\">\n",
              "    <div class=\"colab-df-container\">\n",
              "      <div>\n",
              "<style scoped>\n",
              "    .dataframe tbody tr th:only-of-type {\n",
              "        vertical-align: middle;\n",
              "    }\n",
              "\n",
              "    .dataframe tbody tr th {\n",
              "        vertical-align: top;\n",
              "    }\n",
              "\n",
              "    .dataframe thead th {\n",
              "        text-align: right;\n",
              "    }\n",
              "</style>\n",
              "<table border=\"1\" class=\"dataframe\">\n",
              "  <thead>\n",
              "    <tr style=\"text-align: right;\">\n",
              "      <th></th>\n",
              "      <th>id</th>\n",
              "      <th>name</th>\n",
              "      <th>host_id</th>\n",
              "      <th>host_name</th>\n",
              "      <th>neighbourhood_group</th>\n",
              "      <th>neighbourhood</th>\n",
              "      <th>latitude</th>\n",
              "      <th>longitude</th>\n",
              "      <th>room_type</th>\n",
              "      <th>price</th>\n",
              "      <th>minimum_nights</th>\n",
              "      <th>number_of_reviews</th>\n",
              "      <th>last_review</th>\n",
              "      <th>reviews_per_month</th>\n",
              "      <th>calculated_host_listings_count</th>\n",
              "      <th>availability_365</th>\n",
              "      <th>number_of_reviews_ltm</th>\n",
              "      <th>license</th>\n",
              "    </tr>\n",
              "  </thead>\n",
              "  <tbody>\n",
              "    <tr>\n",
              "      <th>0</th>\n",
              "      <td>19091</td>\n",
              "      <td>Fully Furnished Cozy Apartment</td>\n",
              "      <td>72880</td>\n",
              "      <td>John</td>\n",
              "      <td>NaN</td>\n",
              "      <td>Leonidas</td>\n",
              "      <td>29.96100</td>\n",
              "      <td>-90.11950</td>\n",
              "      <td>Entire home/apt</td>\n",
              "      <td>60</td>\n",
              "      <td>1</td>\n",
              "      <td>497</td>\n",
              "      <td>2022-04-04</td>\n",
              "      <td>3.29</td>\n",
              "      <td>1</td>\n",
              "      <td>122</td>\n",
              "      <td>30</td>\n",
              "      <td>20-RSTR-27040, 20-OSTR-00105</td>\n",
              "    </tr>\n",
              "    <tr>\n",
              "      <th>1</th>\n",
              "      <td>71624</td>\n",
              "      <td>Ravenwood Manor (Historic Bywater)</td>\n",
              "      <td>367223</td>\n",
              "      <td>Susan</td>\n",
              "      <td>NaN</td>\n",
              "      <td>Bywater</td>\n",
              "      <td>29.96153</td>\n",
              "      <td>-90.04364</td>\n",
              "      <td>Entire home/apt</td>\n",
              "      <td>150</td>\n",
              "      <td>3</td>\n",
              "      <td>271</td>\n",
              "      <td>2022-09-05</td>\n",
              "      <td>1.92</td>\n",
              "      <td>1</td>\n",
              "      <td>321</td>\n",
              "      <td>31</td>\n",
              "      <td>21-RSTR-18609, 20-OSTR-31018</td>\n",
              "    </tr>\n",
              "    <tr>\n",
              "      <th>2</th>\n",
              "      <td>74498</td>\n",
              "      <td>Maison Marais 1: Large Local Living</td>\n",
              "      <td>391462</td>\n",
              "      <td>Georgia</td>\n",
              "      <td>NaN</td>\n",
              "      <td>St. Roch</td>\n",
              "      <td>29.96986</td>\n",
              "      <td>-90.05172</td>\n",
              "      <td>Entire home/apt</td>\n",
              "      <td>93</td>\n",
              "      <td>3</td>\n",
              "      <td>553</td>\n",
              "      <td>2022-09-04</td>\n",
              "      <td>3.95</td>\n",
              "      <td>3</td>\n",
              "      <td>202</td>\n",
              "      <td>40</td>\n",
              "      <td>Exempt: This listing is a licensed hotel, mote...</td>\n",
              "    </tr>\n",
              "    <tr>\n",
              "      <th>3</th>\n",
              "      <td>79536</td>\n",
              "      <td>FeelAtHomeInNO PrivateApt</td>\n",
              "      <td>428362</td>\n",
              "      <td>Miriam</td>\n",
              "      <td>NaN</td>\n",
              "      <td>Seventh Ward</td>\n",
              "      <td>29.97803</td>\n",
              "      <td>-90.07450</td>\n",
              "      <td>Entire home/apt</td>\n",
              "      <td>69</td>\n",
              "      <td>3</td>\n",
              "      <td>580</td>\n",
              "      <td>2022-08-23</td>\n",
              "      <td>4.19</td>\n",
              "      <td>1</td>\n",
              "      <td>29</td>\n",
              "      <td>67</td>\n",
              "      <td>21-RSTR-18550, 21-OSTR-18392</td>\n",
              "    </tr>\n",
              "    <tr>\n",
              "      <th>4</th>\n",
              "      <td>79609</td>\n",
              "      <td>Moon Over Mazant - FIRST and FINEST in Bywater!</td>\n",
              "      <td>428909</td>\n",
              "      <td>Stephen</td>\n",
              "      <td>NaN</td>\n",
              "      <td>St. Claude</td>\n",
              "      <td>29.96448</td>\n",
              "      <td>-90.03667</td>\n",
              "      <td>Private room</td>\n",
              "      <td>111</td>\n",
              "      <td>3</td>\n",
              "      <td>438</td>\n",
              "      <td>2022-09-05</td>\n",
              "      <td>3.13</td>\n",
              "      <td>1</td>\n",
              "      <td>244</td>\n",
              "      <td>44</td>\n",
              "      <td>19STR-20697, 20-OSTR-24055</td>\n",
              "    </tr>\n",
              "  </tbody>\n",
              "</table>\n",
              "</div>\n",
              "      <button class=\"colab-df-convert\" onclick=\"convertToInteractive('df-bbd21000-bfac-4a93-bf74-f27f4181f9fd')\"\n",
              "              title=\"Convert this dataframe to an interactive table.\"\n",
              "              style=\"display:none;\">\n",
              "        \n",
              "  <svg xmlns=\"http://www.w3.org/2000/svg\" height=\"24px\"viewBox=\"0 0 24 24\"\n",
              "       width=\"24px\">\n",
              "    <path d=\"M0 0h24v24H0V0z\" fill=\"none\"/>\n",
              "    <path d=\"M18.56 5.44l.94 2.06.94-2.06 2.06-.94-2.06-.94-.94-2.06-.94 2.06-2.06.94zm-11 1L8.5 8.5l.94-2.06 2.06-.94-2.06-.94L8.5 2.5l-.94 2.06-2.06.94zm10 10l.94 2.06.94-2.06 2.06-.94-2.06-.94-.94-2.06-.94 2.06-2.06.94z\"/><path d=\"M17.41 7.96l-1.37-1.37c-.4-.4-.92-.59-1.43-.59-.52 0-1.04.2-1.43.59L10.3 9.45l-7.72 7.72c-.78.78-.78 2.05 0 2.83L4 21.41c.39.39.9.59 1.41.59.51 0 1.02-.2 1.41-.59l7.78-7.78 2.81-2.81c.8-.78.8-2.07 0-2.86zM5.41 20L4 18.59l7.72-7.72 1.47 1.35L5.41 20z\"/>\n",
              "  </svg>\n",
              "      </button>\n",
              "      \n",
              "  <style>\n",
              "    .colab-df-container {\n",
              "      display:flex;\n",
              "      flex-wrap:wrap;\n",
              "      gap: 12px;\n",
              "    }\n",
              "\n",
              "    .colab-df-convert {\n",
              "      background-color: #E8F0FE;\n",
              "      border: none;\n",
              "      border-radius: 50%;\n",
              "      cursor: pointer;\n",
              "      display: none;\n",
              "      fill: #1967D2;\n",
              "      height: 32px;\n",
              "      padding: 0 0 0 0;\n",
              "      width: 32px;\n",
              "    }\n",
              "\n",
              "    .colab-df-convert:hover {\n",
              "      background-color: #E2EBFA;\n",
              "      box-shadow: 0px 1px 2px rgba(60, 64, 67, 0.3), 0px 1px 3px 1px rgba(60, 64, 67, 0.15);\n",
              "      fill: #174EA6;\n",
              "    }\n",
              "\n",
              "    [theme=dark] .colab-df-convert {\n",
              "      background-color: #3B4455;\n",
              "      fill: #D2E3FC;\n",
              "    }\n",
              "\n",
              "    [theme=dark] .colab-df-convert:hover {\n",
              "      background-color: #434B5C;\n",
              "      box-shadow: 0px 1px 3px 1px rgba(0, 0, 0, 0.15);\n",
              "      filter: drop-shadow(0px 1px 2px rgba(0, 0, 0, 0.3));\n",
              "      fill: #FFFFFF;\n",
              "    }\n",
              "  </style>\n",
              "\n",
              "      <script>\n",
              "        const buttonEl =\n",
              "          document.querySelector('#df-bbd21000-bfac-4a93-bf74-f27f4181f9fd button.colab-df-convert');\n",
              "        buttonEl.style.display =\n",
              "          google.colab.kernel.accessAllowed ? 'block' : 'none';\n",
              "\n",
              "        async function convertToInteractive(key) {\n",
              "          const element = document.querySelector('#df-bbd21000-bfac-4a93-bf74-f27f4181f9fd');\n",
              "          const dataTable =\n",
              "            await google.colab.kernel.invokeFunction('convertToInteractive',\n",
              "                                                     [key], {});\n",
              "          if (!dataTable) return;\n",
              "\n",
              "          const docLinkHtml = 'Like what you see? Visit the ' +\n",
              "            '<a target=\"_blank\" href=https://colab.research.google.com/notebooks/data_table.ipynb>data table notebook</a>'\n",
              "            + ' to learn more about interactive tables.';\n",
              "          element.innerHTML = '';\n",
              "          dataTable['output_type'] = 'display_data';\n",
              "          await google.colab.output.renderOutput(dataTable, element);\n",
              "          const docLink = document.createElement('div');\n",
              "          docLink.innerHTML = docLinkHtml;\n",
              "          element.appendChild(docLink);\n",
              "        }\n",
              "      </script>\n",
              "    </div>\n",
              "  </div>\n",
              "  "
            ]
          },
          "metadata": {},
          "execution_count": 4
        }
      ]
    },
    {
      "cell_type": "markdown",
      "metadata": {
        "id": "yz1urSUGW9iE"
      },
      "source": [
        "### **Q2. Qual a porcentagem de valores ausentes no *dataset*?**"
      ]
    },
    {
      "cell_type": "code",
      "metadata": {
        "id": "plk2FjbCXOqP",
        "colab": {
          "base_uri": "https://localhost:8080/"
        },
        "outputId": "721fc807-833a-40f1-b4f6-dd53310fd235"
      },
      "source": [
        "# ordenar em ordem decrescente as variáveis por seus valores ausentes\n",
        "percentual_valores_ausentes = (df.isnull().sum()/df.shape[0]).sort_values(ascending = False)\n",
        "\n",
        "# imprimindo percentual na formatação de %\n",
        "for i in range(len(percentual_valores_ausentes)):\n",
        "  print(f'{percentual_valores_ausentes.keys()[i]:<35} {round(float((percentual_valores_ausentes[i]))*100,1)}%')\n",
        "\n"
      ],
      "execution_count": null,
      "outputs": [
        {
          "output_type": "stream",
          "name": "stdout",
          "text": [
            "neighbourhood_group                 100.0%\n",
            "license                             11.2%\n",
            "reviews_per_month                   10.9%\n",
            "last_review                         10.9%\n",
            "host_name                           0.5%\n",
            "minimum_nights                      0.0%\n",
            "number_of_reviews_ltm               0.0%\n",
            "availability_365                    0.0%\n",
            "calculated_host_listings_count      0.0%\n",
            "number_of_reviews                   0.0%\n",
            "id                                  0.0%\n",
            "name                                0.0%\n",
            "room_type                           0.0%\n",
            "longitude                           0.0%\n",
            "latitude                            0.0%\n",
            "neighbourhood                       0.0%\n",
            "host_id                             0.0%\n",
            "price                               0.0%\n"
          ]
        }
      ]
    },
    {
      "cell_type": "code",
      "source": [
        "# Excluindo coluna com dados faltantes com todos os dados faltantes\n",
        "df.drop(columns=['neighbourhood_group'], inplace=True)\n"
      ],
      "metadata": {
        "id": "J8bqshmBhJL6"
      },
      "execution_count": null,
      "outputs": []
    },
    {
      "cell_type": "markdown",
      "metadata": {
        "id": "iHXvvHIxaoNc"
      },
      "source": [
        "### **Q3. Qual o tipo de distribuição das variáveis?** "
      ]
    },
    {
      "cell_type": "code",
      "source": [
        "#Exibindn tipos de dados das variáveis\n",
        "display(df.dtypes)\n",
        "\n"
      ],
      "metadata": {
        "colab": {
          "base_uri": "https://localhost:8080/",
          "height": 329
        },
        "id": "KxYkm0Y5c2AX",
        "outputId": "d57c7f42-6d71-4190-bfc7-45890ccd5077"
      },
      "execution_count": null,
      "outputs": [
        {
          "output_type": "display_data",
          "data": {
            "text/plain": [
              "id                                  int64\n",
              "name                               object\n",
              "host_id                             int64\n",
              "host_name                          object\n",
              "neighbourhood                      object\n",
              "latitude                          float64\n",
              "longitude                         float64\n",
              "room_type                          object\n",
              "price                               int64\n",
              "minimum_nights                      int64\n",
              "number_of_reviews                   int64\n",
              "last_review                        object\n",
              "reviews_per_month                 float64\n",
              "calculated_host_listings_count      int64\n",
              "availability_365                    int64\n",
              "number_of_reviews_ltm               int64\n",
              "license                            object\n",
              "dtype: object"
            ]
          },
          "metadata": {}
        }
      ]
    },
    {
      "cell_type": "code",
      "source": [
        "# transformando dados\n",
        "\n",
        "df[['id','host_id','latitude','longitude']] = df[['id','host_id','latitude','longitude']].astype('object')\n",
        "\n",
        "df_variaveisNum = df.select_dtypes(include=['float64','int64']) #crinando um df com apenas dtypes numericos a serem avaliados\n",
        "\n",
        "\n"
      ],
      "metadata": {
        "id": "vGOiZUkofZe9"
      },
      "execution_count": null,
      "outputs": []
    },
    {
      "cell_type": "code",
      "source": [
        "# plotar o histograma das variáveis numéricas\n",
        "df_variaveisNum.hist(bins=15, figsize=(15,10));\n"
      ],
      "metadata": {
        "colab": {
          "base_uri": "https://localhost:8080/",
          "height": 607
        },
        "id": "YMIskGLLBjGB",
        "outputId": "e68aae83-2283-47ce-e166-4670473b32f8"
      },
      "execution_count": null,
      "outputs": [
        {
          "output_type": "display_data",
          "data": {
            "text/plain": [
              "<Figure size 1080x720 with 9 Axes>"
            ],
            "image/png": "[encoded data removed]"
          },
          "metadata": {
            "needs_background": "light"
          }
        }
      ]
    },
    {
      "cell_type": "markdown",
      "metadata": {
        "id": "7x4aw1j5wNmn"
      },
      "source": [
        "### **Q4. Qual a média dos preços de aluguel?**"
      ]
    },
    {
      "cell_type": "code",
      "metadata": {
        "id": "ff-8gUahLk-C",
        "colab": {
          "base_uri": "https://localhost:8080/"
        },
        "outputId": "689b32ac-5ea1-460d-d357-e24256beb45d"
      },
      "source": [
        "# ver a média da coluna `price`\n",
        "print(f'Média de preços de aluguel: U$ {round(df.price.mean(),2)}')"
      ],
      "execution_count": null,
      "outputs": [
        {
          "output_type": "stream",
          "name": "stdout",
          "text": [
            "Média de preços de aluguel: U$ 197.92\n"
          ]
        }
      ]
    },
    {
      "cell_type": "markdown",
      "metadata": {
        "id": "IXn2oIo5qx-w"
      },
      "source": [
        "### **Q4. Qual a correlação existente entre as variáveis**"
      ]
    },
    {
      "cell_type": "code",
      "metadata": {
        "id": "x2ayzBajqxyd",
        "colab": {
          "base_uri": "https://localhost:8080/",
          "height": 237
        },
        "outputId": "cb0a9f59-fc24-4658-82e7-3cb48483465d"
      },
      "source": [
        "# criar uma matriz de correlação\n",
        "corr = df[['price','minimum_nights','number_of_reviews','reviews_per_month','calculated_host_listings_count','availability_365']].corr()\n",
        "\n",
        "\n",
        "# mostrar a matriz de correlação\n",
        "display(corr)"
      ],
      "execution_count": null,
      "outputs": [
        {
          "output_type": "display_data",
          "data": {
            "text/plain": [
              "                                   price  minimum_nights  number_of_reviews  \\\n",
              "price                           1.000000        0.144368          -0.096174   \n",
              "minimum_nights                  0.144368        1.000000          -0.147320   \n",
              "number_of_reviews              -0.096174       -0.147320           1.000000   \n",
              "reviews_per_month              -0.094357       -0.234327           0.562457   \n",
              "calculated_host_listings_count -0.041490       -0.125542          -0.102914   \n",
              "availability_365                0.044576       -0.043880          -0.116501   \n",
              "\n",
              "                                reviews_per_month  \\\n",
              "price                                   -0.094357   \n",
              "minimum_nights                          -0.234327   \n",
              "number_of_reviews                        0.562457   \n",
              "reviews_per_month                        1.000000   \n",
              "calculated_host_listings_count          -0.000245   \n",
              "availability_365                        -0.000632   \n",
              "\n",
              "                                calculated_host_listings_count  \\\n",
              "price                                                -0.041490   \n",
              "minimum_nights                                       -0.125542   \n",
              "number_of_reviews                                    -0.102914   \n",
              "reviews_per_month                                    -0.000245   \n",
              "calculated_host_listings_count                        1.000000   \n",
              "availability_365                                      0.306284   \n",
              "\n",
              "                                availability_365  \n",
              "price                                   0.044576  \n",
              "minimum_nights                         -0.043880  \n",
              "number_of_reviews                      -0.116501  \n",
              "reviews_per_month                      -0.000632  \n",
              "calculated_host_listings_count          0.306284  \n",
              "availability_365                        1.000000  "
            ],
            "text/html": [
              "\n",
              "  <div id=\"df-63438bd7-f707-470c-bc7f-b0f432efdbd9\">\n",
              "    <div class=\"colab-df-container\">\n",
              "      <div>\n",
              "<style scoped>\n",
              "    .dataframe tbody tr th:only-of-type {\n",
              "        vertical-align: middle;\n",
              "    }\n",
              "\n",
              "    .dataframe tbody tr th {\n",
              "        vertical-align: top;\n",
              "    }\n",
              "\n",
              "    .dataframe thead th {\n",
              "        text-align: right;\n",
              "    }\n",
              "</style>\n",
              "<table border=\"1\" class=\"dataframe\">\n",
              "  <thead>\n",
              "    <tr style=\"text-align: right;\">\n",
              "      <th></th>\n",
              "      <th>price</th>\n",
              "      <th>minimum_nights</th>\n",
              "      <th>number_of_reviews</th>\n",
              "      <th>reviews_per_month</th>\n",
              "      <th>calculated_host_listings_count</th>\n",
              "      <th>availability_365</th>\n",
              "    </tr>\n",
              "  </thead>\n",
              "  <tbody>\n",
              "    <tr>\n",
              "      <th>price</th>\n",
              "      <td>1.000000</td>\n",
              "      <td>0.144368</td>\n",
              "      <td>-0.096174</td>\n",
              "      <td>-0.094357</td>\n",
              "      <td>-0.041490</td>\n",
              "      <td>0.044576</td>\n",
              "    </tr>\n",
              "    <tr>\n",
              "      <th>minimum_nights</th>\n",
              "      <td>0.144368</td>\n",
              "      <td>1.000000</td>\n",
              "      <td>-0.147320</td>\n",
              "      <td>-0.234327</td>\n",
              "      <td>-0.125542</td>\n",
              "      <td>-0.043880</td>\n",
              "    </tr>\n",
              "    <tr>\n",
              "      <th>number_of_reviews</th>\n",
              "      <td>-0.096174</td>\n",
              "      <td>-0.147320</td>\n",
              "      <td>1.000000</td>\n",
              "      <td>0.562457</td>\n",
              "      <td>-0.102914</td>\n",
              "      <td>-0.116501</td>\n",
              "    </tr>\n",
              "    <tr>\n",
              "      <th>reviews_per_month</th>\n",
              "      <td>-0.094357</td>\n",
              "      <td>-0.234327</td>\n",
              "      <td>0.562457</td>\n",
              "      <td>1.000000</td>\n",
              "      <td>-0.000245</td>\n",
              "      <td>-0.000632</td>\n",
              "    </tr>\n",
              "    <tr>\n",
              "      <th>calculated_host_listings_count</th>\n",
              "      <td>-0.041490</td>\n",
              "      <td>-0.125542</td>\n",
              "      <td>-0.102914</td>\n",
              "      <td>-0.000245</td>\n",
              "      <td>1.000000</td>\n",
              "      <td>0.306284</td>\n",
              "    </tr>\n",
              "    <tr>\n",
              "      <th>availability_365</th>\n",
              "      <td>0.044576</td>\n",
              "      <td>-0.043880</td>\n",
              "      <td>-0.116501</td>\n",
              "      <td>-0.000632</td>\n",
              "      <td>0.306284</td>\n",
              "      <td>1.000000</td>\n",
              "    </tr>\n",
              "  </tbody>\n",
              "</table>\n",
              "</div>\n",
              "      <button class=\"colab-df-convert\" onclick=\"convertToInteractive('df-63438bd7-f707-470c-bc7f-b0f432efdbd9')\"\n",
              "              title=\"Convert this dataframe to an interactive table.\"\n",
              "              style=\"display:none;\">\n",
              "        \n",
              "  <svg xmlns=\"http://www.w3.org/2000/svg\" height=\"24px\"viewBox=\"0 0 24 24\"\n",
              "       width=\"24px\">\n",
              "    <path d=\"M0 0h24v24H0V0z\" fill=\"none\"/>\n",
              "    <path d=\"M18.56 5.44l.94 2.06.94-2.06 2.06-.94-2.06-.94-.94-2.06-.94 2.06-2.06.94zm-11 1L8.5 8.5l.94-2.06 2.06-.94-2.06-.94L8.5 2.5l-.94 2.06-2.06.94zm10 10l.94 2.06.94-2.06 2.06-.94-2.06-.94-.94-2.06-.94 2.06-2.06.94z\"/><path d=\"M17.41 7.96l-1.37-1.37c-.4-.4-.92-.59-1.43-.59-.52 0-1.04.2-1.43.59L10.3 9.45l-7.72 7.72c-.78.78-.78 2.05 0 2.83L4 21.41c.39.39.9.59 1.41.59.51 0 1.02-.2 1.41-.59l7.78-7.78 2.81-2.81c.8-.78.8-2.07 0-2.86zM5.41 20L4 18.59l7.72-7.72 1.47 1.35L5.41 20z\"/>\n",
              "  </svg>\n",
              "      </button>\n",
              "      \n",
              "  <style>\n",
              "    .colab-df-container {\n",
              "      display:flex;\n",
              "      flex-wrap:wrap;\n",
              "      gap: 12px;\n",
              "    }\n",
              "\n",
              "    .colab-df-convert {\n",
              "      background-color: #E8F0FE;\n",
              "      border: none;\n",
              "      border-radius: 50%;\n",
              "      cursor: pointer;\n",
              "      display: none;\n",
              "      fill: #1967D2;\n",
              "      height: 32px;\n",
              "      padding: 0 0 0 0;\n",
              "      width: 32px;\n",
              "    }\n",
              "\n",
              "    .colab-df-convert:hover {\n",
              "      background-color: #E2EBFA;\n",
              "      box-shadow: 0px 1px 2px rgba(60, 64, 67, 0.3), 0px 1px 3px 1px rgba(60, 64, 67, 0.15);\n",
              "      fill: #174EA6;\n",
              "    }\n",
              "\n",
              "    [theme=dark] .colab-df-convert {\n",
              "      background-color: #3B4455;\n",
              "      fill: #D2E3FC;\n",
              "    }\n",
              "\n",
              "    [theme=dark] .colab-df-convert:hover {\n",
              "      background-color: #434B5C;\n",
              "      box-shadow: 0px 1px 3px 1px rgba(0, 0, 0, 0.15);\n",
              "      filter: drop-shadow(0px 1px 2px rgba(0, 0, 0, 0.3));\n",
              "      fill: #FFFFFF;\n",
              "    }\n",
              "  </style>\n",
              "\n",
              "      <script>\n",
              "        const buttonEl =\n",
              "          document.querySelector('#df-63438bd7-f707-470c-bc7f-b0f432efdbd9 button.colab-df-convert');\n",
              "        buttonEl.style.display =\n",
              "          google.colab.kernel.accessAllowed ? 'block' : 'none';\n",
              "\n",
              "        async function convertToInteractive(key) {\n",
              "          const element = document.querySelector('#df-63438bd7-f707-470c-bc7f-b0f432efdbd9');\n",
              "          const dataTable =\n",
              "            await google.colab.kernel.invokeFunction('convertToInteractive',\n",
              "                                                     [key], {});\n",
              "          if (!dataTable) return;\n",
              "\n",
              "          const docLinkHtml = 'Like what you see? Visit the ' +\n",
              "            '<a target=\"_blank\" href=https://colab.research.google.com/notebooks/data_table.ipynb>data table notebook</a>'\n",
              "            + ' to learn more about interactive tables.';\n",
              "          element.innerHTML = '';\n",
              "          dataTable['output_type'] = 'display_data';\n",
              "          await google.colab.output.renderOutput(dataTable, element);\n",
              "          const docLink = document.createElement('div');\n",
              "          docLink.innerHTML = docLinkHtml;\n",
              "          element.appendChild(docLink);\n",
              "        }\n",
              "      </script>\n",
              "    </div>\n",
              "  </div>\n",
              "  "
            ]
          },
          "metadata": {}
        }
      ]
    },
    {
      "cell_type": "code",
      "metadata": {
        "id": "91UujDr6ueqE",
        "colab": {
          "base_uri": "https://localhost:8080/",
          "height": 411
        },
        "outputId": "dc31c4de-2369-4fc8-9ba9-522afab88440"
      },
      "source": [
        "# plotar um heatmap a partir das correlações\n",
        "sns.heatmap(corr, cmap = 'RdBu', fmt = '.2f',square=True, linecolor='white', annot=True);"
      ],
      "execution_count": null,
      "outputs": [
        {
          "output_type": "display_data",
          "data": {
            "text/plain": [
              "<Figure size 432x288 with 2 Axes>"
            ],
            "image/png": "[encoded data removed]"
          },
          "metadata": {
            "needs_background": "light"
          }
        }
      ]
    },
    {
      "cell_type": "markdown",
      "metadata": {
        "id": "7b6RMWpuHKN-"
      },
      "source": [
        "### **Q5. Qual o tipo de imóvel mais alugado no Airbnb?**"
      ]
    },
    {
      "cell_type": "code",
      "metadata": {
        "id": "ueLPNWvPHgfB",
        "colab": {
          "base_uri": "https://localhost:8080/"
        },
        "outputId": "04e3453f-80cf-43a3-a949-eee6e19e44b8"
      },
      "source": [
        "# mostrar a quantidade de cada tipo de imóvel disponível\n",
        "df.room_type.value_counts()"
      ],
      "execution_count": null,
      "outputs": [
        {
          "output_type": "execute_result",
          "data": {
            "text/plain": [
              "Entire home/apt    5949\n",
              "Private room        880\n",
              "Hotel room           59\n",
              "Shared room          39\n",
              "Name: room_type, dtype: int64"
            ]
          },
          "metadata": {},
          "execution_count": 13
        }
      ]
    },
    {
      "cell_type": "code",
      "metadata": {
        "id": "EvwoO-XAHhIm",
        "colab": {
          "base_uri": "https://localhost:8080/"
        },
        "outputId": "578d2a2e-cff6-4453-ee17-b7e2084fbfdd"
      },
      "source": [
        "# mostrar a porcentagem de cada tipo de imóvel disponível\n",
        "percentual_imoveis = round(df.room_type.value_counts() / df.shape[0],3)\n",
        "\n",
        "# imprimindo percentual na formatação de %\n",
        "for i in range(len(percentual_imoveis)):\n",
        "  print(f'{percentual_imoveis.keys()[i]:<20} {round(float((percentual_imoveis[i]))*100,1)}%')"
      ],
      "execution_count": null,
      "outputs": [
        {
          "output_type": "stream",
          "name": "stdout",
          "text": [
            "Entire home/apt      85.9%\n",
            "Private room         12.7%\n",
            "Hotel room           0.9%\n",
            "Shared room          0.6%\n"
          ]
        }
      ]
    },
    {
      "cell_type": "markdown",
      "metadata": {
        "id": "MFa5NbnLJMcd"
      },
      "source": [
        "### **Q6. Qual a localidade mais cara do dataset?**\n",
        "\n"
      ]
    },
    {
      "cell_type": "code",
      "metadata": {
        "id": "MD_xa143JZpi",
        "colab": {
          "base_uri": "https://localhost:8080/"
        },
        "outputId": "b092b5c2-019e-4006-a2bc-6f03a12ea1e3"
      },
      "source": [
        "# ver preços por bairros, na média\n",
        "round(df.groupby(['neighbourhood']).price.mean().sort_values(ascending=False),2)[:10] #top 10 localidades mais caras"
      ],
      "execution_count": null,
      "outputs": [
        {
          "output_type": "execute_result",
          "data": {
            "text/plain": [
              "neighbourhood\n",
              "Read Blvd East        328.08\n",
              "West Lake Forest      274.00\n",
              "Pontchartrain Park    272.83\n",
              "Lake Catherine        269.10\n",
              "French Quarter        241.76\n",
              "Marigny               238.14\n",
              "Lakewood              236.67\n",
              "Uptown                233.02\n",
              "Old Aurora            228.03\n",
              "Central City          227.17\n",
              "Name: price, dtype: float64"
            ]
          },
          "metadata": {},
          "execution_count": 15
        }
      ]
    },
    {
      "cell_type": "code",
      "metadata": {
        "id": "UxVJqJ_3W59I",
        "colab": {
          "base_uri": "https://localhost:8080/",
          "height": 476
        },
        "outputId": "12c1ecb8-fdba-41f9-b2be-c2ea47ee735e"
      },
      "source": [
        "# plotar os imóveis pela latitude-longitude\n",
        "df.plot(kind='scatter',x='longitude',y='latitude', alpha=0.4, c=df['price'], s=8, cmap=plt.get_cmap('jet'), figsize=(12,8));"
      ],
      "execution_count": null,
      "outputs": [
        {
          "output_type": "display_data",
          "data": {
            "text/plain": [
              "<Figure size 864x576 with 2 Axes>"
            ],
            "image/png": "[encoded data removed]"
          },
          "metadata": {
            "needs_background": "light"
          }
        }
      ]
    },
    {
      "cell_type": "markdown",
      "metadata": {
        "id": "vTneAMRUYvr1"
      },
      "source": [
        "### **Q7. Qual é a média do mínimo de noites para aluguel (minimum_nights)?**"
      ]
    },
    {
      "cell_type": "code",
      "metadata": {
        "id": "_VzNhrEgY82N",
        "colab": {
          "base_uri": "https://localhost:8080/"
        },
        "outputId": "ba265dda-12ab-41a8-a1a3-f5aff5753271"
      },
      "source": [
        "# ver a média da coluna `minimum_nights`\n",
        "print(f'a média da variável minimum_nights é {round(df.minimum_nights.mean(),2)} noites')"
      ],
      "execution_count": null,
      "outputs": [
        {
          "output_type": "stream",
          "name": "stdout",
          "text": [
            "a média da variável minimum_nights é 8.82 noites\n"
          ]
        }
      ]
    },
    {
      "cell_type": "markdown",
      "metadata": {
        "id": "GkvAg623RjoR"
      },
      "source": [
        "## Conclusões\n"
      ]
    },
    {
      "cell_type": "markdown",
      "metadata": {
        "id": "rbZ3Hsy9Ypw8"
      },
      "source": [
        "A partir de uma analise básica da base de dados do Airbnb a respeito da cidade de New Orleans, já é possível destacar alguns pontos.\n",
        "Por ser uma análise superficial, é necessário cuidados ao avaliar localidades caras, pois os locais com poucos imóveis disponíveis podem não mostrar a real informação estátistica. \n",
        "Dito isso, é importante destacar o que já se tem de informação para quem deseja fazer uma viagem para o berço do blues, como a média do mínimo de noites para aluguel, preço médio dos alugueis, tipo de imóvel mais alugado e as correlações entre as variáveis estudadas.\n",
        "Com isso, se tem um panomrama geral dos alugueis de imóveis pelo Airbnb."
      ]
    }
  ]
}